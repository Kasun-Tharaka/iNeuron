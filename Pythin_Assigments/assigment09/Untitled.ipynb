{
 "cells": [
  {
   "cell_type": "markdown",
   "id": "530d8a22",
   "metadata": {},
   "source": [
    "## 1. To what does a relative path refer?"
   ]
  },
  {
   "cell_type": "markdown",
   "id": "31e816bd",
   "metadata": {},
   "source": [
    "the path of the file with respect to your current working directory. called it PWD"
   ]
  },
  {
   "cell_type": "markdown",
   "id": "801d8265",
   "metadata": {},
   "source": [
    "## 2. What does an absolute path start with your operating system?"
   ]
  },
  {
   "cell_type": "markdown",
   "id": "fa5347dd",
   "metadata": {},
   "source": [
    "the absolute path contains all of derectries from root file upto your target file. with root folder oath starts with C:\\"
   ]
  },
  {
   "cell_type": "markdown",
   "id": "54e4b22c",
   "metadata": {},
   "source": [
    "## 3. What do the functions os.getcwd() and os.chdir() do?"
   ]
  },
  {
   "cell_type": "markdown",
   "id": "cacfa1ee",
   "metadata": {},
   "source": [
    "os.getcwd() returns absolute path of the working directly.\n",
    "\n",
    "os.chdir() method in python used to change current working directry."
   ]
  },
  {
   "cell_type": "markdown",
   "id": "57768d6d",
   "metadata": {},
   "source": [
    "## 4. What are the . and .. folders?"
   ]
  },
  {
   "cell_type": "markdown",
   "id": "537809c6",
   "metadata": {},
   "source": [
    ". represent current directry, ..signifies the parent directry"
   ]
  },
  {
   "cell_type": "markdown",
   "id": "26ff2660",
   "metadata": {},
   "source": [
    "## 5. In C:\\bacon\\eggs\\spam.txt, which part is the dir name, and which part is the base name?"
   ]
  },
  {
   "cell_type": "markdown",
   "id": "410ba697",
   "metadata": {},
   "source": [
    "the basename is the final segment of the file path. in above case basename is spam.txt. you can extrct it usinf os.path.basename() methos\n",
    "\n",
    "dir name is the folder name in which file exist. in above case dir name is C\"\\bacon\\eggs. to extrat that, you can use os.path.dirname() method"
   ]
  },
  {
   "cell_type": "markdown",
   "id": "0b1fa180",
   "metadata": {},
   "source": [
    "## 6. What are the three “mode” arguments that can be passed to the open() function?"
   ]
  },
  {
   "cell_type": "markdown",
   "id": "cc1a6385",
   "metadata": {},
   "source": [
    "'r' : open file for read. the defualt mode.\n",
    "\n",
    "'w' : open file for writing and if file not exist then it will creat file\n",
    "    \n",
    "'a' : open file for append to data end of the file."
   ]
  },
  {
   "cell_type": "markdown",
   "id": "aeee0f00",
   "metadata": {},
   "source": [
    "## 7. What happens if an existing file is opened in write mode?"
   ]
  },
  {
   "cell_type": "markdown",
   "id": "7366981e",
   "metadata": {},
   "source": [
    "contens which were previously present will be overwritten by new content passed."
   ]
  },
  {
   "cell_type": "markdown",
   "id": "90b47242",
   "metadata": {},
   "source": [
    "## 8. How do you tell the difference between read() and readlines()?"
   ]
  },
  {
   "cell_type": "markdown",
   "id": "5dc56de3",
   "metadata": {},
   "source": [
    "read() method reads entire content of the file into string.\n",
    "\n",
    "readline() method reads only one line till next line."
   ]
  }
 ],
 "metadata": {
  "kernelspec": {
   "display_name": "Python 3",
   "language": "python",
   "name": "python3"
  },
  "language_info": {
   "codemirror_mode": {
    "name": "ipython",
    "version": 3
   },
   "file_extension": ".py",
   "mimetype": "text/x-python",
   "name": "python",
   "nbconvert_exporter": "python",
   "pygments_lexer": "ipython3",
   "version": "3.8.8"
  }
 },
 "nbformat": 4,
 "nbformat_minor": 5
}

{
 "cells": [
  {
   "cell_type": "markdown",
   "id": "4e5b7532",
   "metadata": {},
   "source": [
    "## 1. In what modes should the PdfFileReader() and PdfFileWriter() File objects will be opened?"
   ]
  },
  {
   "cell_type": "markdown",
   "id": "e0121141",
   "metadata": {},
   "source": [
    "files will be opened in binary mode. write binary(wb) for PdfFilwWriter(), read binary(rb) for PdfFileReader() "
   ]
  },
  {
   "cell_type": "markdown",
   "id": "6513165e",
   "metadata": {},
   "source": [
    "## 2. From a PdfFileReader object, how do you get a Page object for page 5?"
   ]
  },
  {
   "cell_type": "markdown",
   "id": "4e0218f0",
   "metadata": {},
   "source": [
    "getPage(4), it will return the 5th page according to indexing"
   ]
  },
  {
   "cell_type": "markdown",
   "id": "56b28bfb",
   "metadata": {},
   "source": [
    "## 3. What PdfFileReader variable stores the number of pages in the PDF document?"
   ]
  },
  {
   "cell_type": "markdown",
   "id": "9bbd61cf",
   "metadata": {},
   "source": [
    "The PdfFileReader.numPages variable stores an integer of the number of pages in the PdfFileReader object"
   ]
  },
  {
   "cell_type": "markdown",
   "id": "8378dc7b",
   "metadata": {},
   "source": [
    "## 4. If a PdfFileReader object’s PDF is encrypted with the password swordfish, what must you do before you can obtain Page objects from it?"
   ]
  },
  {
   "cell_type": "code",
   "execution_count": null,
   "id": "8042c3b5",
   "metadata": {},
   "outputs": [],
   "source": [
    "the pdf has to be decrypted. .decrypt('swordfish')"
   ]
  },
  {
   "cell_type": "markdown",
   "id": "56d20f4c",
   "metadata": {},
   "source": [
    "## 5. What methods do you use to rotate a page?"
   ]
  },
  {
   "cell_type": "markdown",
   "id": "92fe880c",
   "metadata": {},
   "source": [
    "rotateClockwise() and rotateCounterClockwise(), the degrees to rotate it has to passed as interger argument"
   ]
  },
  {
   "cell_type": "markdown",
   "id": "3dab37f0",
   "metadata": {},
   "source": [
    "## 6. What is the difference between a Run object and a Paragraph object?"
   ]
  },
  {
   "cell_type": "markdown",
   "id": "39a78e7e",
   "metadata": {},
   "source": [
    "Run Objects :\n",
    "Runs are contiguous groups of characters within a paragraph with the same style\n",
    "\n",
    "\n",
    "Paragraph Object :  A document contains multiple paragraphs. A paragraph begins on a new line and contains multiple \n",
    "runs. \n",
    "The Document object contains a list of Paragraph objects for the paragraphs in the document. (A new paragraph begins \n",
    "whenever the user presses ENTER or RETURN while typing in a Word document.)"
   ]
  },
  {
   "cell_type": "markdown",
   "id": "9669c3bb",
   "metadata": {},
   "source": [
    "## 7. How do you obtain a list of Paragraph objects for a Document object that’s stored in a variable named doc?"
   ]
  },
  {
   "cell_type": "markdown",
   "id": "b783656b",
   "metadata": {},
   "source": [
    "doc.paragraphs"
   ]
  },
  {
   "cell_type": "markdown",
   "id": "dca0c263",
   "metadata": {},
   "source": [
    "## 8. What type of object has bold, underline, italic, strike, and outline variables?"
   ]
  },
  {
   "cell_type": "markdown",
   "id": "ee0efd69",
   "metadata": {},
   "source": [
    "A Run object has bold, underline,italic,strike and outline variables"
   ]
  },
  {
   "cell_type": "markdown",
   "id": "4fc9384c",
   "metadata": {},
   "source": [
    "## 9. What is the difference between False, True, and None for the bold variable?"
   ]
  },
  {
   "cell_type": "markdown",
   "id": "4ad75e67",
   "metadata": {},
   "source": [
    "Runs can be further styled using text attributes. Each attribute can be set to one of three values: \n",
    "True (the attribute is always enabled, no matter what other styles are applied to the run), \n",
    "False (the attribute is always disabled),\n",
    "None (defaults to whatever the run’s style is set to)\n",
    "\n",
    "True always makes the Run object bolded and False makes it always not bolded, no matter what the style’s bold setting is. None will make the Run object just use the style’s bold setting"
   ]
  },
  {
   "cell_type": "markdown",
   "id": "c1a307a6",
   "metadata": {},
   "source": [
    "## 10. How do you create a Document object for a new Word document?"
   ]
  },
  {
   "cell_type": "markdown",
   "id": "aa62b51e",
   "metadata": {},
   "source": [
    "docx.Document() function."
   ]
  },
  {
   "cell_type": "markdown",
   "id": "35e83a5d",
   "metadata": {},
   "source": [
    "## 11. How do you add a paragraph with the text 'Hello, there!'' to a Document object stored in a variable named doc?"
   ]
  },
  {
   "cell_type": "markdown",
   "id": "9fd48ade",
   "metadata": {},
   "source": [
    "import docx\n",
    "\n",
    "\n",
    "d = docx.Document()\n",
    "\n",
    "d.add_paragraph('Hello there!')\n",
    "\n",
    "\n",
    "d.save('hellothere.docx')"
   ]
  },
  {
   "cell_type": "markdown",
   "id": "2e35f491",
   "metadata": {},
   "source": [
    "## 12. What integers represent the levels of headings available in Word documents?"
   ]
  },
  {
   "cell_type": "markdown",
   "id": "015a7e55",
   "metadata": {},
   "source": [
    "integer from 0 to 4\n",
    "\n",
    "The arguments to add_heading() are a string of the heading text and an integer from 0 to 4. The integer 0 makes the heading the Title style, which is used for the top of the document. Integers 1 to 4 are for various heading levels, with 1 being the main heading and 4 the lowest subheading"
   ]
  }
 ],
 "metadata": {
  "kernelspec": {
   "display_name": "Python 3",
   "language": "python",
   "name": "python3"
  },
  "language_info": {
   "codemirror_mode": {
    "name": "ipython",
    "version": 3
   },
   "file_extension": ".py",
   "mimetype": "text/x-python",
   "name": "python",
   "nbconvert_exporter": "python",
   "pygments_lexer": "ipython3",
   "version": "3.8.8"
  }
 },
 "nbformat": 4,
 "nbformat_minor": 5
}

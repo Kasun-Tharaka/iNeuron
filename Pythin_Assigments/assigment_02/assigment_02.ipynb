{
 "cells": [
  {
   "cell_type": "markdown",
   "id": "fd3280bf",
   "metadata": {},
   "source": [
    "1). True, False. "
   ]
  },
  {
   "cell_type": "markdown",
   "id": "c430e7bd",
   "metadata": {},
   "source": [
    "2). AND - &&\n",
    "    OR - ||\n",
    "    NOT - not"
   ]
  },
  {
   "cell_type": "code",
   "execution_count": 11,
   "id": "aedeb848",
   "metadata": {},
   "outputs": [
    {
     "name": "stdout",
     "output_type": "stream",
     "text": [
      "\n",
      " OR operator truth table\n",
      " A  B AorB\n",
      "[0, 0, 0]\n",
      "[0, 1, 1]\n",
      "[1, 1, 1]\n",
      "\n",
      "AND operator truth table\n",
      " A  B AandB\n",
      "[0, 0, 0]\n",
      "[0, 1, 0]\n",
      "[1, 1, 1]\n",
      "\n",
      "NOT operator truth table\n",
      " A notA\n",
      "[0, 1]\n",
      "[1, 0]\n"
     ]
    }
   ],
   "source": [
    "#3). \n",
    "orl = [[0, 0 ,0],[0,1,1],[1,1,1]]\n",
    "\n",
    "print(\"\\n OR operator truth table\")\n",
    "print(\" A  B AorB\")\n",
    "for i in orl:\n",
    "    print(i)\n",
    "\n",
    "\n",
    "andl = [[0, 0 ,0],[0,1,0],[1,1,1]]\n",
    "\n",
    "print(\"\\nAND operator truth table\")\n",
    "print(\" A  B AandB\")\n",
    "for i in andl:\n",
    "    print(i)\n",
    "    \n",
    "    \n",
    "notl = [[0, 1],[1,0]]\n",
    "\n",
    "print(\"\\nNOT operator truth table\")\n",
    "print(\" A notA\")\n",
    "for i in notl:\n",
    "    print(i)"
   ]
  },
  {
   "cell_type": "markdown",
   "id": "8a20510b",
   "metadata": {},
   "source": [
    "4). (5 > 4) and (3 == 5) - False\n",
    "    not (5 > 4)  - False\n",
    "    (5 > 4) or (3 == 5)  - True\n",
    "    not ((5 > 4) or (3 == 5))   - False\n",
    "    (True and True) and (True == False)   - False\n",
    "    (not False) or (not True)  - True"
   ]
  },
  {
   "cell_type": "markdown",
   "id": "5b5e0e89",
   "metadata": {},
   "source": [
    "5). >, <, >=, =<, ==, !=="
   ]
  },
  {
   "cell_type": "markdown",
   "id": "ed29c4d7",
   "metadata": {},
   "source": [
    "6). assigment operation use to store some data into a variable.\n",
    "    equal to opearation use, when check some condition."
   ]
  },
  {
   "cell_type": "markdown",
   "id": "3423756f",
   "metadata": {},
   "source": [
    "7).\n",
    "spam = 0\n",
    "\n",
    "if spam == 10:\n",
    "    print('eggs')\n",
    "    \n",
    "if spam > 5:\n",
    "    print('bacon')\n",
    "    \n",
    "else:\n",
    "    print('ham')\n",
    "    print('spam')\n",
    "    print('spam')"
   ]
  },
  {
   "cell_type": "code",
   "execution_count": 13,
   "id": "dad01a30",
   "metadata": {},
   "outputs": [
    {
     "name": "stdout",
     "output_type": "stream",
     "text": [
      "enter a number :2\n",
      "Howdy\n"
     ]
    }
   ],
   "source": [
    "#8\n",
    "\n",
    "spam = input('enter a number :')\n",
    "spam = int(spam)\n",
    "if spam == 1:\n",
    "    print('Hello')\n",
    "elif spam == 2:\n",
    "    print('Howdy')\n",
    "else:\n",
    "    print('Greeting')"
   ]
  },
  {
   "cell_type": "code",
   "execution_count": null,
   "id": "0f728f3f",
   "metadata": {},
   "outputs": [],
   "source": [
    "9. press ctr-C"
   ]
  },
  {
   "cell_type": "code",
   "execution_count": null,
   "id": "5416ebff",
   "metadata": {},
   "outputs": [],
   "source": [
    "10. breake is used for immediate termination of loop. \n",
    "    countiue terminate the current iteration and resumes the loop"
   ]
  },
  {
   "cell_type": "code",
   "execution_count": null,
   "id": "a95124e5",
   "metadata": {},
   "outputs": [],
   "source": [
    "11. there is no any differece between those functions"
   ]
  },
  {
   "cell_type": "code",
   "execution_count": 9,
   "id": "aa606ed2",
   "metadata": {},
   "outputs": [
    {
     "name": "stdout",
     "output_type": "stream",
     "text": [
      "1\n",
      "2\n",
      "3\n",
      "4\n",
      "5\n",
      "6\n",
      "7\n",
      "8\n",
      "9\n",
      "10\n"
     ]
    }
   ],
   "source": [
    "# 12 for loop\n",
    "\n",
    "for i in range(1, 11):\n",
    "    print(i)"
   ]
  },
  {
   "cell_type": "code",
   "execution_count": 10,
   "id": "c1329d36",
   "metadata": {},
   "outputs": [
    {
     "name": "stdout",
     "output_type": "stream",
     "text": [
      "1\n",
      "2\n",
      "3\n",
      "4\n",
      "5\n",
      "6\n",
      "7\n",
      "8\n",
      "9\n",
      "10\n"
     ]
    }
   ],
   "source": [
    "#12 while loop\n",
    "\n",
    "n = 1\n",
    "while n < 11:\n",
    "    print(n)\n",
    "    n = n+1"
   ]
  },
  {
   "cell_type": "code",
   "execution_count": null,
   "id": "894795c2",
   "metadata": {},
   "outputs": [],
   "source": [
    "#13\n",
    "import spam\n",
    "k = spam.bacon()"
   ]
  }
 ],
 "metadata": {
  "kernelspec": {
   "display_name": "Python 3",
   "language": "python",
   "name": "python3"
  },
  "language_info": {
   "codemirror_mode": {
    "name": "ipython",
    "version": 3
   },
   "file_extension": ".py",
   "mimetype": "text/x-python",
   "name": "python",
   "nbconvert_exporter": "python",
   "pygments_lexer": "ipython3",
   "version": "3.8.8"
  }
 },
 "nbformat": 4,
 "nbformat_minor": 5
}

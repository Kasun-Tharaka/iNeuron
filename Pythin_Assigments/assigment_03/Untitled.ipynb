{
 "cells": [
  {
   "cell_type": "markdown",
   "id": "6eeaa882",
   "metadata": {},
   "source": [
    "1. Why are functions advantageous to have in your programs?"
   ]
  },
  {
   "cell_type": "markdown",
   "id": "d262d945",
   "metadata": {},
   "source": [
    "    modifying a program becomes easier by using function\n",
    "    avoid repetition of same code\n",
    "    reduce chances of errors"
   ]
  },
  {
   "cell_type": "markdown",
   "id": "27f1af47",
   "metadata": {},
   "source": [
    "2. When does the code in a function run: when it&#39;s specified or when it&#39;s called?"
   ]
  },
  {
   "cell_type": "markdown",
   "id": "a7128163",
   "metadata": {},
   "source": [
    "    when function is called, it will execute. not when function is defined."
   ]
  },
  {
   "cell_type": "markdown",
   "id": "8c741314",
   "metadata": {},
   "source": [
    "3. What statement creates a function?"
   ]
  },
  {
   "cell_type": "markdown",
   "id": "47a762cb",
   "metadata": {},
   "source": [
    "    def functionname(), this wil creates a funtion"
   ]
  },
  {
   "cell_type": "markdown",
   "id": "e00c90a7",
   "metadata": {},
   "source": [
    "4. What is the difference between a function and a function call?"
   ]
  },
  {
   "cell_type": "markdown",
   "id": "4f62bd2f",
   "metadata": {},
   "source": [
    "    function: is a block of code does particular operation, taking inputs and return the result.\n",
    "    function call: the code use to pass controls to the function"
   ]
  },
  {
   "cell_type": "markdown",
   "id": "60516f8c",
   "metadata": {},
   "source": [
    "5. How many global scopes are there in a Python program? How many local scopes?"
   ]
  },
  {
   "cell_type": "markdown",
   "id": "52fbf25c",
   "metadata": {},
   "source": [
    "    one global acope, and a local scope create when function is called"
   ]
  },
  {
   "cell_type": "markdown",
   "id": "e31a2546",
   "metadata": {},
   "source": [
    "6. What happens to variables in a local scope when the function call returns?"
   ]
  },
  {
   "cell_type": "markdown",
   "id": "87c74b23",
   "metadata": {},
   "source": [
    "    when function return, local scope will destroy and all of variables in it are fogotten. it \n",
    "    won't able to access from outside"
   ]
  },
  {
   "cell_type": "markdown",
   "id": "a1bd11d9",
   "metadata": {},
   "source": [
    "7. What is the concept of a return value? Is it possible to have a return value in an expression?"
   ]
  },
  {
   "cell_type": "markdown",
   "id": "1684b790",
   "metadata": {},
   "source": [
    "    return value is the value that function called evaluate. like as any values, return values can be used in anywhere"
   ]
  },
  {
   "cell_type": "markdown",
   "id": "7e9cd9d7",
   "metadata": {},
   "source": [
    "8. If a function does not have a return statement, what is the return value of a call to that function?"
   ]
  },
  {
   "cell_type": "markdown",
   "id": "9985ef31",
   "metadata": {},
   "source": [
    "    if function doesn't has return satatment, it reruns as None."
   ]
  },
  {
   "cell_type": "markdown",
   "id": "36722987",
   "metadata": {},
   "source": [
    "9. How do you make a function variable refer to the global variable?"
   ]
  },
  {
   "cell_type": "markdown",
   "id": "76c9f0a6",
   "metadata": {},
   "source": [
    "    use the keyword called global, that meke a variabal as global. Ex: global k"
   ]
  },
  {
   "cell_type": "markdown",
   "id": "29fe4278",
   "metadata": {},
   "source": [
    "10. What is the data type of None?"
   ]
  },
  {
   "cell_type": "markdown",
   "id": "df0f7d8f",
   "metadata": {},
   "source": [
    "    the data type of noone is NoneType"
   ]
  },
  {
   "cell_type": "markdown",
   "id": "7e92916d",
   "metadata": {},
   "source": [
    "11. What does the sentence import areallyourpetsnamederic do?"
   ]
  },
  {
   "cell_type": "code",
   "execution_count": 1,
   "id": "a168c4b7",
   "metadata": {},
   "outputs": [
    {
     "ename": "ModuleNotFoundError",
     "evalue": "No module named 'areallyourpetsnamederic'",
     "output_type": "error",
     "traceback": [
      "\u001b[1;31m---------------------------------------------------------------------------\u001b[0m",
      "\u001b[1;31mModuleNotFoundError\u001b[0m                       Traceback (most recent call last)",
      "\u001b[1;32m<ipython-input-1-b1ea9cb2228f>\u001b[0m in \u001b[0;36m<module>\u001b[1;34m\u001b[0m\n\u001b[1;32m----> 1\u001b[1;33m \u001b[1;32mimport\u001b[0m \u001b[0mareallyourpetsnamederic\u001b[0m\u001b[1;33m\u001b[0m\u001b[1;33m\u001b[0m\u001b[0m\n\u001b[0m",
      "\u001b[1;31mModuleNotFoundError\u001b[0m: No module named 'areallyourpetsnamederic'"
     ]
    }
   ],
   "source": [
    "import areallyourpetsnamederic"
   ]
  },
  {
   "cell_type": "markdown",
   "id": "42713cb2",
   "metadata": {},
   "source": [
    "12. If you had a bacon() feature in a spam module, what would you call it after importing spam?"
   ]
  },
  {
   "cell_type": "markdown",
   "id": "2bebb139",
   "metadata": {},
   "source": [
    "    import spam\n",
    "    spam.bacon()"
   ]
  },
  {
   "cell_type": "markdown",
   "id": "ce893005",
   "metadata": {},
   "source": [
    "13. What can you do to save a programme from crashing if it encounters an error?"
   ]
  },
  {
   "cell_type": "markdown",
   "id": "2a70248d",
   "metadata": {},
   "source": [
    "    use a try block to write the code, it won't be give to crash the code.in except block we can catch the exception"
   ]
  },
  {
   "cell_type": "markdown",
   "id": "25c5d7a5",
   "metadata": {},
   "source": [
    "14. What is the purpose of the try clause? What is the purpose of the except clause?"
   ]
  },
  {
   "cell_type": "markdown",
   "id": "2cf27292",
   "metadata": {},
   "source": [
    "    try: code that could potentially cause an error goes in the try clause.\n",
    "    except: code that executes if an error happens goes in the except clause, it will return \n",
    "    logging statement with the exception"
   ]
  }
 ],
 "metadata": {
  "kernelspec": {
   "display_name": "Python 3",
   "language": "python",
   "name": "python3"
  },
  "language_info": {
   "codemirror_mode": {
    "name": "ipython",
    "version": 3
   },
   "file_extension": ".py",
   "mimetype": "text/x-python",
   "name": "python",
   "nbconvert_exporter": "python",
   "pygments_lexer": "ipython3",
   "version": "3.8.8"
  }
 },
 "nbformat": 4,
 "nbformat_minor": 5
}

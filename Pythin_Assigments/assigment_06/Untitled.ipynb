{
 "cells": [
  {
   "cell_type": "markdown",
   "id": "0f0873c3",
   "metadata": {},
   "source": [
    "## 1. What are escape characters, and how do you use them?"
   ]
  },
  {
   "cell_type": "code",
   "execution_count": 2,
   "id": "4a815687",
   "metadata": {},
   "outputs": [
    {
     "name": "stdout",
     "output_type": "stream",
     "text": [
      "it's Kasun\n",
      "it's Kasun\n"
     ]
    }
   ],
   "source": [
    "print(\"it's Kasun\")\n",
    "print('it\\'s Kasun')"
   ]
  },
  {
   "cell_type": "markdown",
   "id": "39ccebca",
   "metadata": {},
   "source": [
    "## 2. What do the escape characters n and t stand for?"
   ]
  },
  {
   "cell_type": "markdown",
   "id": "1bbe23bf",
   "metadata": {},
   "source": [
    "'\\t' is new tab\n",
    "\n",
    "'\\n' is new line"
   ]
  },
  {
   "cell_type": "markdown",
   "id": "7ed1d6cd",
   "metadata": {},
   "source": [
    "## 3. What is the way to include backslash characters in a string?"
   ]
  },
  {
   "cell_type": "code",
   "execution_count": 3,
   "id": "c7db8669",
   "metadata": {},
   "outputs": [
    {
     "name": "stdout",
     "output_type": "stream",
     "text": [
      "how to use backshach \\ in a sentence\n"
     ]
    }
   ],
   "source": [
    "print('how to use backshach \\\\ in a sentence')"
   ]
  },
  {
   "cell_type": "markdown",
   "id": "dfb0fe0d",
   "metadata": {},
   "source": [
    "## 4. The string \"Howl's Moving Castle\" is a correct value. Why isn't the single quote character in the word Howl's not escaped a problem?"
   ]
  },
  {
   "cell_type": "markdown",
   "id": "82fc9248",
   "metadata": {},
   "source": [
    "single quote is fine, because you.ve used double qoutes to mark the begginig and end of the string.\n",
    "\n",
    "like wise you can use double qoutes in with single qoutes"
   ]
  },
  {
   "cell_type": "markdown",
   "id": "753a9731",
   "metadata": {},
   "source": [
    "## 5. How do you write a string of newlines if you don't want to use the n character?"
   ]
  },
  {
   "cell_type": "code",
   "execution_count": 8,
   "id": "8fbd69db",
   "metadata": {},
   "outputs": [
    {
     "name": "stdout",
     "output_type": "stream",
     "text": [
      "this is the first line\n",
      "new_line\n"
     ]
    }
   ],
   "source": [
    "print('this is the first line', end='\\n')\n",
    "print('new_line')"
   ]
  },
  {
   "cell_type": "markdown",
   "id": "5e497fc9",
   "metadata": {},
   "source": [
    "## 6. What are the values of the given expressions?"
   ]
  },
  {
   "cell_type": "markdown",
   "id": "b053df31",
   "metadata": {},
   "source": [
    "'Hello, world!'[1]  -> e\n",
    "\n",
    "'Hello, world!'[0:5]  -> Hello\n",
    "\n",
    "'Hello, world!'[:5]  -> Hello\n",
    "\n",
    "'Hello, world!'[3:]  -> lo, world!\n"
   ]
  },
  {
   "cell_type": "code",
   "execution_count": 9,
   "id": "b6947c48",
   "metadata": {},
   "outputs": [
    {
     "data": {
      "text/plain": [
       "'e'"
      ]
     },
     "execution_count": 9,
     "metadata": {},
     "output_type": "execute_result"
    }
   ],
   "source": [
    "'Hello, world!'[1]"
   ]
  },
  {
   "cell_type": "code",
   "execution_count": 10,
   "id": "41bae3b6",
   "metadata": {},
   "outputs": [
    {
     "data": {
      "text/plain": [
       "'Hello'"
      ]
     },
     "execution_count": 10,
     "metadata": {},
     "output_type": "execute_result"
    }
   ],
   "source": [
    "'Hello, world!'[0:5]"
   ]
  },
  {
   "cell_type": "code",
   "execution_count": 11,
   "id": "c4c20262",
   "metadata": {},
   "outputs": [
    {
     "data": {
      "text/plain": [
       "'Hello'"
      ]
     },
     "execution_count": 11,
     "metadata": {},
     "output_type": "execute_result"
    }
   ],
   "source": [
    "'Hello, world!'[:5]"
   ]
  },
  {
   "cell_type": "code",
   "execution_count": 12,
   "id": "2385603b",
   "metadata": {},
   "outputs": [
    {
     "data": {
      "text/plain": [
       "'lo, world!'"
      ]
     },
     "execution_count": 12,
     "metadata": {},
     "output_type": "execute_result"
    }
   ],
   "source": [
    "'Hello, world!'[3:]"
   ]
  },
  {
   "cell_type": "markdown",
   "id": "49a87746",
   "metadata": {},
   "source": [
    "## 7. What are the values of the following expressions?"
   ]
  },
  {
   "cell_type": "markdown",
   "id": "5eb838da",
   "metadata": {},
   "source": [
    "'Hello'.upper()  -> HELLO\n",
    "\n",
    "'Hello'.upper().isupper()  -> False\n",
    "\n",
    "'Hello'.upper().lower()  -> False\n"
   ]
  },
  {
   "cell_type": "code",
   "execution_count": 13,
   "id": "6b767438",
   "metadata": {},
   "outputs": [
    {
     "data": {
      "text/plain": [
       "'HELLO'"
      ]
     },
     "execution_count": 13,
     "metadata": {},
     "output_type": "execute_result"
    }
   ],
   "source": [
    "'Hello'.upper()"
   ]
  },
  {
   "cell_type": "code",
   "execution_count": 14,
   "id": "2086ae42",
   "metadata": {},
   "outputs": [
    {
     "data": {
      "text/plain": [
       "False"
      ]
     },
     "execution_count": 14,
     "metadata": {},
     "output_type": "execute_result"
    }
   ],
   "source": [
    "'Hello'.isupper()"
   ]
  },
  {
   "cell_type": "code",
   "execution_count": 15,
   "id": "05575ef6",
   "metadata": {},
   "outputs": [
    {
     "data": {
      "text/plain": [
       "False"
      ]
     },
     "execution_count": 15,
     "metadata": {},
     "output_type": "execute_result"
    }
   ],
   "source": [
    "'Hello'.islower()"
   ]
  },
  {
   "cell_type": "markdown",
   "id": "d42287b9",
   "metadata": {},
   "source": [
    "## 8. What are the values of the following expressions?"
   ]
  },
  {
   "cell_type": "code",
   "execution_count": 16,
   "id": "0a125712",
   "metadata": {},
   "outputs": [
    {
     "data": {
      "text/plain": [
       "['Remember,', 'remember,', 'the', 'fifth', 'of', 'July.']"
      ]
     },
     "execution_count": 16,
     "metadata": {},
     "output_type": "execute_result"
    }
   ],
   "source": [
    "'Remember, remember, the fifth of July.'.split()"
   ]
  },
  {
   "cell_type": "code",
   "execution_count": 17,
   "id": "6f8bbd89",
   "metadata": {},
   "outputs": [
    {
     "data": {
      "text/plain": [
       "'There-can-only-one.'"
      ]
     },
     "execution_count": 17,
     "metadata": {},
     "output_type": "execute_result"
    }
   ],
   "source": [
    "'-'.join('There can only one.'.split())"
   ]
  },
  {
   "cell_type": "markdown",
   "id": "d5c798c1",
   "metadata": {},
   "source": [
    "## 9. What are the methods for right-justifying, left-justifying, and centering a string?"
   ]
  },
  {
   "cell_type": "markdown",
   "id": "06ba354c",
   "metadata": {},
   "source": [
    "center()\n",
    "\n",
    "rjust()\n",
    "\n",
    "ljust"
   ]
  },
  {
   "cell_type": "code",
   "execution_count": 19,
   "id": "84989b17",
   "metadata": {},
   "outputs": [
    {
     "data": {
      "text/plain": [
       "'***************kasun'"
      ]
     },
     "execution_count": 19,
     "metadata": {},
     "output_type": "execute_result"
    }
   ],
   "source": [
    "k = 'kasun'\n",
    "k.rjust(20, '*')"
   ]
  },
  {
   "cell_type": "code",
   "execution_count": 20,
   "id": "41311154",
   "metadata": {},
   "outputs": [
    {
     "data": {
      "text/plain": [
       "'-----------------kasun------------------'"
      ]
     },
     "execution_count": 20,
     "metadata": {},
     "output_type": "execute_result"
    }
   ],
   "source": [
    "k.center(40, '-')"
   ]
  },
  {
   "cell_type": "code",
   "execution_count": 21,
   "id": "cc906d73",
   "metadata": {},
   "outputs": [
    {
     "data": {
      "text/plain": [
       "'kasun***************'"
      ]
     },
     "execution_count": 21,
     "metadata": {},
     "output_type": "execute_result"
    }
   ],
   "source": [
    "k.ljust(20, '*')"
   ]
  },
  {
   "cell_type": "markdown",
   "id": "bdd1a63e",
   "metadata": {},
   "source": [
    "## 10. What is the best way to remove whitespace characters from the start or end?"
   ]
  },
  {
   "cell_type": "markdown",
   "id": "210a45af",
   "metadata": {},
   "source": [
    "rstrip() - it will remove end whitespace of the sentence\n",
    "\n",
    "lstrip() - it will remove begging whitespace of the sentence"
   ]
  },
  {
   "cell_type": "code",
   "execution_count": 22,
   "id": "9d059466",
   "metadata": {},
   "outputs": [],
   "source": [
    "s = '     jskggjur     '"
   ]
  },
  {
   "cell_type": "code",
   "execution_count": 24,
   "id": "e80c1ab6",
   "metadata": {},
   "outputs": [
    {
     "data": {
      "text/plain": [
       "'     jskggjur'"
      ]
     },
     "execution_count": 24,
     "metadata": {},
     "output_type": "execute_result"
    }
   ],
   "source": [
    "s.rstrip()"
   ]
  },
  {
   "cell_type": "code",
   "execution_count": 25,
   "id": "bd590caf",
   "metadata": {},
   "outputs": [
    {
     "data": {
      "text/plain": [
       "'jskggjur     '"
      ]
     },
     "execution_count": 25,
     "metadata": {},
     "output_type": "execute_result"
    }
   ],
   "source": [
    "s.lstrip()"
   ]
  }
 ],
 "metadata": {
  "kernelspec": {
   "display_name": "Python 3",
   "language": "python",
   "name": "python3"
  },
  "language_info": {
   "codemirror_mode": {
    "name": "ipython",
    "version": 3
   },
   "file_extension": ".py",
   "mimetype": "text/x-python",
   "name": "python",
   "nbconvert_exporter": "python",
   "pygments_lexer": "ipython3",
   "version": "3.8.8"
  }
 },
 "nbformat": 4,
 "nbformat_minor": 5
}

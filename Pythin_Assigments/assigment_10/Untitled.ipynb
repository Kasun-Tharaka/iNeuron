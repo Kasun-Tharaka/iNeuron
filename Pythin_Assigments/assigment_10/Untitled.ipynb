{
 "cells": [
  {
   "cell_type": "markdown",
   "id": "5e6aec07",
   "metadata": {},
   "source": [
    "## 1. How do you distinguish between shutil.copy() and shutil.copytree()?"
   ]
  },
  {
   "cell_type": "markdown",
   "id": "2f5f4ca9",
   "metadata": {},
   "source": [
    "shutil.copy()  : copies one single file only\n",
    "    \n",
    "shutil.copytree()  : will copy an entire folder and foles and folders inside it"
   ]
  },
  {
   "cell_type": "markdown",
   "id": "e6fed45f",
   "metadata": {},
   "source": [
    "## 2. What function is used to rename files??"
   ]
  },
  {
   "cell_type": "markdown",
   "id": "f75d5f33",
   "metadata": {},
   "source": [
    "import os\n",
    "os.rename('current_file_name.txt', 'new_file_name.txt')"
   ]
  },
  {
   "cell_type": "markdown",
   "id": "0f12db02",
   "metadata": {},
   "source": [
    "## 3. What is the difference between the delete functions in the send2trash and shutil modules?"
   ]
  },
  {
   "cell_type": "markdown",
   "id": "807b08a8",
   "metadata": {},
   "source": [
    "send2trsh.send2trsh() :   using this methode file can be sent to recycle bin or to the trash permanetly or instead deleting.\n",
    "\n",
    "    \n",
    "shutli.rmtree()  : using it you can be delete files or folders permanetly. there is no option to undo if execute it once."
   ]
  },
  {
   "cell_type": "markdown",
   "id": "362d41de",
   "metadata": {},
   "source": [
    "## 4.ZipFile objects have a close() method just like File objects’ close() method. What ZipFile method is\n",
    "equivalent to File objects’ open() method?"
   ]
  },
  {
   "cell_type": "code",
   "execution_count": null,
   "id": "f66881ba",
   "metadata": {},
   "outputs": [],
   "source": [
    "from zipfile import Zipfile\n",
    "with ZipFile(name)=_of_file, 'r') as zip"
   ]
  },
  {
   "cell_type": "code",
   "execution_count": null,
   "id": "90064d9a",
   "metadata": {},
   "outputs": [],
   "source": [
    "using above code, it will open a zip file for u."
   ]
  },
  {
   "cell_type": "markdown",
   "id": "4a44e39c",
   "metadata": {},
   "source": [
    "## 5. Create a programme that searches a folder tree for files with a certain file extension (such as .pdfor .jpg). Copy these files from whatever location they are in to a new folder."
   ]
  },
  {
   "cell_type": "code",
   "execution_count": null,
   "id": "2e7b36ff",
   "metadata": {},
   "outputs": [],
   "source": [
    "import shutil, os\n",
    "\n",
    "def funC(curF, ext, destF):\n",
    "    folder = os.path.abspath(curF)\n",
    "    destFolder = os.path.abspath(destF)\n",
    "    print('Looking in', curF, 'for files with extensions of', ', '.join(ext))\n",
    "    for folname subfolders, fname in os.walk(curF):\n",
    "        for filename in fname:\n",
    "            name, ext = os.path.splitext(filename)\n",
    "            if exte in ext:\n",
    "                fab = folname + os.path.sep + filename\n",
    "                print('Coping', fileAbsPath, 'to', destF)\n",
    "                shutil.copy(fab, destF)\n",
    "\n",
    "extensions = ['.txt', '.pdf','.jpg']\n",
    "source = \"C:\\\\Users\\\\kasun\\\\current_folder\"\n",
    "destFolder = \"C:\\\\Users\\\\kasun\\\\destination\"\n",
    "selectiveCopy(curF, ext, destF)"
   ]
  }
 ],
 "metadata": {
  "kernelspec": {
   "display_name": "Python 3",
   "language": "python",
   "name": "python3"
  },
  "language_info": {
   "codemirror_mode": {
    "name": "ipython",
    "version": 3
   },
   "file_extension": ".py",
   "mimetype": "text/x-python",
   "name": "python",
   "nbconvert_exporter": "python",
   "pygments_lexer": "ipython3",
   "version": "3.8.8"
  }
 },
 "nbformat": 4,
 "nbformat_minor": 5
}

{
 "cells": [
  {
   "cell_type": "markdown",
   "id": "e9eab5c1",
   "metadata": {},
   "source": [
    "## 1. What advantages do Excel spreadsheets have over CSV spreadsheets?"
   ]
  },
  {
   "cell_type": "markdown",
   "id": "a1d27a38",
   "metadata": {},
   "source": [
    "Excel advantages over CSV\n",
    "1. It is a binary file that holds information about all the worksheets in a workbook\n",
    "2. An Excel not only stores data but can also do operations on the data\n",
    "3. Files saved in excel cannot be opened or edited by text editors\n",
    "4. large files user is much easier in Excel for the end user. Also, \n",
    "    you can have additional functions like selecting individual cells for import, \n",
    "    convert dates and time automatically, reading formulas and their results, filters, sorting, etc\n",
    "5. Apart from text, data can also be stored in form of charts and graphs\n",
    "6. Excel can connect to external data sources to fetch data. You can use custom add-in in Excel to increase its functionality. \n",
    "7. Excel allows for Review of Data with detailed tracking and commenting feature\n",
    "8. In Excel, spreadsheets can have values of data types other than strings; cells can have different fonts, sizes, \n",
    "   or color settings; cells can have varying widths and heights; adjacent cells can be merged"
   ]
  },
  {
   "cell_type": "markdown",
   "id": "b7897bc9",
   "metadata": {},
   "source": [
    "## 2.What do you pass to csv.reader() and csv.writer() to create reader and writer objects?"
   ]
  },
  {
   "cell_type": "code",
   "execution_count": null,
   "id": "ae3df1d4",
   "metadata": {},
   "outputs": [],
   "source": [
    "import csv\n",
    "exFile = open('example.csv')\n",
    "exreader = csv.reader(exFile)\n",
    "exData = list(exreader)\n",
    "exData"
   ]
  },
  {
   "cell_type": "markdown",
   "id": "1e488083",
   "metadata": {},
   "source": [
    "## 3. What modes do File objects for reader and writer objects need to be opened in?"
   ]
  },
  {
   "cell_type": "markdown",
   "id": "ca7c7817",
   "metadata": {},
   "source": [
    "File objects need to be opened in read-binary ('rb') for Reader objects and write-binary ('wb') for Writer objects"
   ]
  },
  {
   "cell_type": "markdown",
   "id": "6710b9a8",
   "metadata": {},
   "source": [
    "## 4. What method takes a list argument and writes it to a CSV file?"
   ]
  },
  {
   "cell_type": "code",
   "execution_count": null,
   "id": "eb31f724",
   "metadata": {},
   "outputs": [],
   "source": [
    "opFile = open('output.csv','w')\n",
    "opWriter = csv.writer(opFile)\n",
    "csv.writer(opFile).writerow(['egg','orange','milk'])"
   ]
  },
  {
   "cell_type": "markdown",
   "id": "5cc76511",
   "metadata": {},
   "source": [
    "## 5. What do the keyword arguments delimiter and line terminator do?"
   ]
  },
  {
   "cell_type": "markdown",
   "id": "5c0df010",
   "metadata": {},
   "source": [
    "The delimiter argument changes the string used to separate cells in a row. \n",
    "The lineterminator argument changes the string used to separate rows."
   ]
  },
  {
   "cell_type": "markdown",
   "id": "64495d20",
   "metadata": {},
   "source": [
    "## 6. What function takes a string of JSON data and returns a Python data structure?"
   ]
  },
  {
   "cell_type": "code",
   "execution_count": null,
   "id": "a4d9e35c",
   "metadata": {},
   "outputs": [],
   "source": [
    "json.loads()"
   ]
  },
  {
   "cell_type": "markdown",
   "id": "4a279741",
   "metadata": {},
   "source": [
    "## 7. What function takes a Python data structure and returns a string of JSON data?"
   ]
  },
  {
   "cell_type": "code",
   "execution_count": null,
   "id": "618b769a",
   "metadata": {},
   "outputs": [],
   "source": [
    "json.dumps()"
   ]
  }
 ],
 "metadata": {
  "kernelspec": {
   "display_name": "Python 3",
   "language": "python",
   "name": "python3"
  },
  "language_info": {
   "codemirror_mode": {
    "name": "ipython",
    "version": 3
   },
   "file_extension": ".py",
   "mimetype": "text/x-python",
   "name": "python",
   "nbconvert_exporter": "python",
   "pygments_lexer": "ipython3",
   "version": "3.8.8"
  }
 },
 "nbformat": 4,
 "nbformat_minor": 5
}

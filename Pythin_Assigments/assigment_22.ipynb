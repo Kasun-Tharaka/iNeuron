{
 "cells": [
  {
   "cell_type": "markdown",
   "id": "0129fc6e",
   "metadata": {},
   "source": [
    "## 1. What is the result of the code, and explain?\n",
    "    X = 'iNeuron'\n",
    "    def func():\n",
    "        print(X)\n",
    "    func()"
   ]
  },
  {
   "cell_type": "markdown",
   "id": "313f8362",
   "metadata": {},
   "source": [
    "    The global variables are accessible in side the functions in python. But we can not access function variable out side \n",
    "    function. \n",
    "    Since x is golbal variable we are able to print it in side the function\n",
    "    solution : 'iNeuron'"
   ]
  },
  {
   "cell_type": "code",
   "execution_count": 1,
   "id": "9e624f00",
   "metadata": {},
   "outputs": [
    {
     "name": "stdout",
     "output_type": "stream",
     "text": [
      "iNeuron\n"
     ]
    }
   ],
   "source": [
    "X = 'iNeuron'\n",
    "def func():\n",
    "    print(X)\n",
    "func()"
   ]
  },
  {
   "cell_type": "markdown",
   "id": "236ea2ca",
   "metadata": {},
   "source": [
    "## 2. What is the result of the code, and explain?\n",
    "    X = 'iNeuron'\n",
    "    def func():\n",
    "        X = 'NI!'\n",
    "\n",
    "    func()\n",
    "    print(X)"
   ]
  },
  {
   "cell_type": "markdown",
   "id": "78b25687",
   "metadata": {},
   "source": [
    "    The global variables are access in side the functions in python. But we can not access function variable out side \n",
    "    function. \n",
    "    Since x is golbal variable we are able to print it out side of the function\n",
    "    solution = 'iNeuron'"
   ]
  },
  {
   "cell_type": "code",
   "execution_count": 2,
   "id": "08fde811",
   "metadata": {},
   "outputs": [
    {
     "name": "stdout",
     "output_type": "stream",
     "text": [
      "iNeuron\n"
     ]
    }
   ],
   "source": [
    "X = 'iNeuron'\n",
    "def func():\n",
    "    X = 'NI!'\n",
    "\n",
    "func()\n",
    "print(X)"
   ]
  },
  {
   "cell_type": "markdown",
   "id": "b531adb0",
   "metadata": {},
   "source": [
    "## 3. What does this code print, and why?\n",
    "\n",
    "    X = 'iNeuron'\n",
    "    def func():\n",
    "        X = 'NI!'\n",
    "        print(X)\n",
    "\n",
    "    func()\n",
    "    print(X)"
   ]
  },
  {
   "cell_type": "markdown",
   "id": "3300ac78",
   "metadata": {},
   "source": [
    "    The global variables are access in side the functions in python. But we can not access function variable out side \n",
    "    function. X is updated with 'NI' which is local to function and its immutable. its name space is with in the function\n",
    "    solution = 'NI!', 'iNeuron'"
   ]
  },
  {
   "cell_type": "code",
   "execution_count": 3,
   "id": "3438d794",
   "metadata": {},
   "outputs": [
    {
     "name": "stdout",
     "output_type": "stream",
     "text": [
      "NI!\n",
      "iNeuron\n"
     ]
    }
   ],
   "source": [
    "X = 'iNeuron'\n",
    "def func():\n",
    "    X = 'NI!'\n",
    "    print(X)\n",
    "\n",
    "func()\n",
    "print(X)"
   ]
  },
  {
   "cell_type": "markdown",
   "id": "e26f0a35",
   "metadata": {},
   "source": [
    "## 4. What output does this code produce? Why?\n",
    "    X = 'iNeuron'\n",
    "    def func():\n",
    "        global X\n",
    "        X = 'NI!'\n",
    "        print(X)\n",
    "\n",
    "    func()\n",
    "    print(X)"
   ]
  },
  {
   "cell_type": "markdown",
   "id": "a5eeff33",
   "metadata": {},
   "source": [
    "    since the X in side function is made Global, it will be accesible out side of the function too. now X will have new value.\n",
    "\n",
    "     solution : 'NI!', 'NI!'"
   ]
  },
  {
   "cell_type": "code",
   "execution_count": 4,
   "id": "e001b0a7",
   "metadata": {},
   "outputs": [
    {
     "name": "stdout",
     "output_type": "stream",
     "text": [
      "NI!\n",
      "NI!\n"
     ]
    }
   ],
   "source": [
    "X = 'iNeuron'\n",
    "def func():\n",
    "    global X\n",
    "    X = 'NI!'\n",
    "    print(X)\n",
    "\n",
    "func()\n",
    "print(X)"
   ]
  },
  {
   "cell_type": "markdown",
   "id": "9660bd8a",
   "metadata": {},
   "source": [
    "## 5. What about this code—what’s the output, and why?\n",
    "\n",
    "    X = 'iNeuron'\n",
    "    def func():\n",
    "        X = 'NI'\n",
    "    def nested():\n",
    "        print(X)\n",
    "\n",
    "    nested()\n",
    "    func()\n",
    "    X"
   ]
  },
  {
   "cell_type": "markdown",
   "id": "69bd6c57",
   "metadata": {},
   "source": [
    "    the nested() function will print 'iNeuron', Then func() does not display anything, and x ='NI' is not accessible out \n",
    "    side the function.\n",
    "    Solution : 'iNeuron'"
   ]
  },
  {
   "cell_type": "code",
   "execution_count": 1,
   "id": "51e1a4cb",
   "metadata": {},
   "outputs": [
    {
     "name": "stdout",
     "output_type": "stream",
     "text": [
      "iNeuron\n"
     ]
    },
    {
     "data": {
      "text/plain": [
       "'iNeuron'"
      ]
     },
     "execution_count": 1,
     "metadata": {},
     "output_type": "execute_result"
    }
   ],
   "source": [
    "X = 'iNeuron'\n",
    "def func():\n",
    "    X = 'NI'\n",
    "def nested():\n",
    "    print(X)\n",
    "    \n",
    "nested()\n",
    "func()\n",
    "X"
   ]
  },
  {
   "cell_type": "markdown",
   "id": "d85a036d",
   "metadata": {},
   "source": [
    "## 6. How about this code: what is its output in Python 3, and explain?\n",
    "\n",
    "    X = 'kkl'\n",
    "    def func():\n",
    "        X = 'NI'\n",
    "        def nested():\n",
    "            nonlocal X\n",
    "            X = 'spam'\n",
    "        nested()\n",
    "        print(X)\n",
    "\n",
    "    func()"
   ]
  },
  {
   "cell_type": "markdown",
   "id": "04b67ca0",
   "metadata": {},
   "source": [
    "    Nonlocal variables are used in nested functions whose local scope is not defined. \n",
    "    This means that the variable can be neither in the local nor the global scope. it print the updated value from nested \n",
    "    function\n",
    "\n",
    "    Solution : 'spam'"
   ]
  },
  {
   "cell_type": "code",
   "execution_count": 2,
   "id": "4b6a7e6f",
   "metadata": {},
   "outputs": [
    {
     "name": "stdout",
     "output_type": "stream",
     "text": [
      "spam\n"
     ]
    }
   ],
   "source": [
    "def func():\n",
    "    X = 'NI'\n",
    "    def nested():\n",
    "        nonlocal X\n",
    "        X = 'spam'\n",
    "    nested()\n",
    "    print(X)\n",
    "\n",
    "func()"
   ]
  }
 ],
 "metadata": {
  "kernelspec": {
   "display_name": "Python 3",
   "language": "python",
   "name": "python3"
  },
  "language_info": {
   "codemirror_mode": {
    "name": "ipython",
    "version": 3
   },
   "file_extension": ".py",
   "mimetype": "text/x-python",
   "name": "python",
   "nbconvert_exporter": "python",
   "pygments_lexer": "ipython3",
   "version": "3.8.8"
  }
 },
 "nbformat": 4,
 "nbformat_minor": 5
}

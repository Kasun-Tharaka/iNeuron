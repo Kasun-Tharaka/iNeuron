{
 "cells": [
  {
   "cell_type": "markdown",
   "id": "238d8d07",
   "metadata": {},
   "source": [
    "1)  *       expresion\n",
    "    'hello' value\n",
    "    -87.8   value\n",
    "    -       expression\n",
    "    /       expression\n",
    "    6       value"
   ]
  },
  {
   "cell_type": "markdown",
   "id": "61c1eb71",
   "metadata": {},
   "source": [
    "2) a variable can be of several types like int, str, float, double.\n",
    "   string is one of several types of variables"
   ]
  },
  {
   "cell_type": "markdown",
   "id": "0ab885bb",
   "metadata": {},
   "source": [
    "3) integer - in int can hold numeric values\n",
    "   float   - using this can hold numeric values with some range of decimal points\n",
    "   string  - it helps to hold characters in single or double quotes"
   ]
  },
  {
   "cell_type": "markdown",
   "id": "6a3b72d0",
   "metadata": {},
   "source": [
    "4) an expression is a construct made up of variables, operators, and method invocations.\n",
    "   An expression is a combination of values, variables, operators, and calls to functions.     Expressions need to be evaluated."
   ]
  },
  {
   "cell_type": "markdown",
   "id": "705a6dfa",
   "metadata": {},
   "source": [
    "5) only rule of the expression, expression must return a variable.\n",
    "   statement do not return anything"
   ]
  },
  {
   "cell_type": "markdown",
   "id": "05dc0231",
   "metadata": {},
   "source": [
    "6) 22"
   ]
  },
  {
   "cell_type": "markdown",
   "id": "1fb7675b",
   "metadata": {},
   "source": [
    "7) values of two terms are samae, 'spamspamspam'"
   ]
  },
  {
   "cell_type": "markdown",
   "id": "b46f1b57",
   "metadata": {},
   "source": [
    "8) variable can not start with intergers, so 100 is not a valid variable"
   ]
  },
  {
   "cell_type": "markdown",
   "id": "f14293c3",
   "metadata": {},
   "source": [
    "9) int(), float(), str()"
   ]
  },
  {
   "cell_type": "markdown",
   "id": "8f561283",
   "metadata": {},
   "source": [
    "10) error cause of, only str to str can concatinate, str to int is not allow."
   ]
  }
 ],
 "metadata": {
  "kernelspec": {
   "display_name": "Python 3",
   "language": "python",
   "name": "python3"
  },
  "language_info": {
   "codemirror_mode": {
    "name": "ipython",
    "version": 3
   },
   "file_extension": ".py",
   "mimetype": "text/x-python",
   "name": "python",
   "nbconvert_exporter": "python",
   "pygments_lexer": "ipython3",
   "version": "3.8.8"
  }
 },
 "nbformat": 4,
 "nbformat_minor": 5
}
